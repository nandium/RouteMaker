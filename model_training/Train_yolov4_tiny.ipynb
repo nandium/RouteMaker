{
  "nbformat": 4,
  "nbformat_minor": 2,
  "metadata": {
    "accelerator": "GPU",
    "colab": {
      "name": "Train_yolov4_tiny.ipynb",
      "provenance": [],
      "collapsed_sections": []
    },
    "kernelspec": {
      "display_name": "Python 3",
      "language": "python",
      "name": "python3"
    },
    "language_info": {
      "codemirror_mode": {
        "name": "ipython",
        "version": 3
      },
      "file_extension": ".py",
      "mimetype": "text/x-python",
      "name": "python",
      "nbconvert_exporter": "python",
      "pygments_lexer": "ipython3",
      "version": "3.7.6"
    }
  },
  "cells": [
    {
      "cell_type": "markdown",
      "source": [
        "#### Steps\n",
        "\n",
        "1. Label images in YOLO format using [labellmg](https://tzutalin.github.io/labelImg/)\n",
        "2. Zip the images and store in a Google Drive folder\n",
        "3. Run this notebook on Google Colab with GPU\n",
        "4. Rename `$BACKUP_DIR` accordingly. For example, if the folder is named yolov4_tiny, assign it `/mydrive/yolov4_tiny`\n",
        "5. Edit `CLASSES` accordingly"
      ],
      "metadata": {
        "id": "Kcap186UUOyC"
      }
    },
    {
      "cell_type": "code",
      "execution_count": 1,
      "source": [
        "# Check if NVIDIA GPU is enabled\r\n",
        "!nvidia-smi"
      ],
      "outputs": [
        {
          "output_type": "stream",
          "name": "stdout",
          "text": [
            "Mon Jun  7 14:14:49 2021       \n",
            "+-----------------------------------------------------------------------------+\n",
            "| NVIDIA-SMI 465.27       Driver Version: 460.32.03    CUDA Version: 11.2     |\n",
            "|-------------------------------+----------------------+----------------------+\n",
            "| GPU  Name        Persistence-M| Bus-Id        Disp.A | Volatile Uncorr. ECC |\n",
            "| Fan  Temp  Perf  Pwr:Usage/Cap|         Memory-Usage | GPU-Util  Compute M. |\n",
            "|                               |                      |               MIG M. |\n",
            "|===============================+======================+======================|\n",
            "|   0  Tesla K80           Off  | 00000000:00:04.0 Off |                    0 |\n",
            "| N/A   34C    P8    28W / 149W |      0MiB / 11441MiB |      0%      Default |\n",
            "|                               |                      |                  N/A |\n",
            "+-------------------------------+----------------------+----------------------+\n",
            "                                                                               \n",
            "+-----------------------------------------------------------------------------+\n",
            "| Processes:                                                                  |\n",
            "|  GPU   GI   CI        PID   Type   Process name                  GPU Memory |\n",
            "|        ID   ID                                                   Usage      |\n",
            "|=============================================================================|\n",
            "|  No running processes found                                                 |\n",
            "+-----------------------------------------------------------------------------+\n"
          ]
        }
      ],
      "metadata": {
        "colab": {
          "base_uri": "https://localhost:8080/"
        },
        "id": "bwp6NIrsZZFP",
        "scrolled": true,
        "outputId": "da7b4ad0-ab36-4814-f4cf-38917b97ddd9"
      }
    },
    {
      "cell_type": "code",
      "execution_count": 2,
      "source": [
        "import glob\r\n",
        "import os\r\n",
        "import re\r\n",
        "import random\r\n",
        "\r\n",
        "random.seed(42)"
      ],
      "outputs": [],
      "metadata": {
        "id": "SWewdvMGv8Fd"
      }
    },
    {
      "cell_type": "code",
      "execution_count": 3,
      "source": [
        "CLASSES = [\"hold\"]\r\n",
        "\r\n",
        "os.environ[\"NUM_CLASSES\"] = f\"{len(CLASSES)}\"\r\n",
        "os.environ[\"NUM_FILTERS\"] = f\"{(len(CLASSES) + 5)*3}\"\r\n",
        "os.environ[\"CLASS_NAMES\"] = \"\\r\\n\".join(CLASSES)\r\n",
        "os.environ[\"BACKUP_DIR\"] = \"/mydrive/yolov4_tiny\""
      ],
      "outputs": [],
      "metadata": {
        "id": "q2A2gPchx7vL"
      }
    },
    {
      "cell_type": "code",
      "execution_count": 4,
      "source": [
        "!echo $NUM_CLASSES\r\n",
        "!echo $NUM_FILTERS\r\n",
        "!echo $CLASS_NAMES\r\n",
        "!echo $BACKUP_DIR"
      ],
      "outputs": [
        {
          "output_type": "stream",
          "name": "stdout",
          "text": [
            "1\n",
            "18\n",
            "hold\n",
            "/mydrive/yolov4_tiny\n"
          ]
        }
      ],
      "metadata": {
        "colab": {
          "base_uri": "https://localhost:8080/"
        },
        "id": "oHQ6gLMeC7tK",
        "outputId": "43bfc136-fc07-4a48-945f-1b463c4f2f65"
      }
    },
    {
      "cell_type": "code",
      "execution_count": 5,
      "source": [
        "from google.colab import drive\r\n",
        "drive.mount('/content/gdrive')\r\n",
        "!ln -s /content/gdrive/MyDrive/ /mydrive"
      ],
      "outputs": [
        {
          "output_type": "stream",
          "name": "stdout",
          "text": [
            "Mounted at /content/gdrive\n"
          ]
        }
      ],
      "metadata": {
        "colab": {
          "base_uri": "https://localhost:8080/"
        },
        "id": "9e9ZW3sqMEPO",
        "outputId": "c1764d4a-aa22-4832-f7d7-9cf5ad796102"
      }
    },
    {
      "cell_type": "markdown",
      "source": [
        "**1) Clone the Darknet**\n",
        "\n"
      ],
      "metadata": {
        "id": "t7utW4in4azV"
      }
    },
    {
      "cell_type": "code",
      "execution_count": 6,
      "source": [
        "!git clone https://github.com/AlexeyAB/darknet"
      ],
      "outputs": [
        {
          "output_type": "stream",
          "name": "stdout",
          "text": [
            "Cloning into 'darknet'...\n",
            "remote: Enumerating objects: 15069, done.\u001b[K\n",
            "remote: Total 15069 (delta 0), reused 0 (delta 0), pack-reused 15069\u001b[K\n",
            "Receiving objects: 100% (15069/15069), 13.44 MiB | 9.50 MiB/s, done.\n",
            "Resolving deltas: 100% (10244/10244), done.\n"
          ]
        }
      ],
      "metadata": {
        "colab": {
          "base_uri": "https://localhost:8080/"
        },
        "id": "e03U7Zi-qMr2",
        "outputId": "d1f1c69e-9c2b-4d81-8fd2-5c50bff275dd"
      }
    },
    {
      "cell_type": "markdown",
      "source": [
        "**2) Compile Darknet using Nvidia GPU**\n"
      ],
      "metadata": {
        "id": "7gDOF3mU-TAn"
      }
    },
    {
      "cell_type": "code",
      "execution_count": null,
      "source": [
        "# change makefile to have GPU and OPENCV enabled\r\n",
        "%cd darknet\r\n",
        "!sed -i 's/OPENCV=0/OPENCV=1/' Makefile\r\n",
        "!sed -i 's/GPU=0/GPU=1/' Makefile\r\n",
        "!sed -i 's/CUDNN=0/CUDNN=1/' Makefile\r\n",
        "!make"
      ],
      "outputs": [],
      "metadata": {
        "id": "5H-Taj06Tw1c",
        "scrolled": true
      }
    },
    {
      "cell_type": "markdown",
      "source": [
        "**3) Configure Darknet network for training YOLO V4 Tiny**"
      ],
      "metadata": {
        "id": "gAOLtA_qI9vF"
      }
    },
    {
      "cell_type": "code",
      "execution_count": 8,
      "source": [
        "!cp cfg/yolov4-tiny-custom.cfg cfg/yolov4-tiny-obj.cfg"
      ],
      "outputs": [],
      "metadata": {
        "id": "s-RpscgU853t"
      }
    },
    {
      "cell_type": "code",
      "execution_count": 9,
      "source": [
        "# filters=(classes + 5)x3 \r\n",
        "\r\n",
        "!sed -i 's/batch=1/batch=64/' cfg/yolov4-tiny-obj.cfg\r\n",
        "!sed -i 's/subdivisions=1/subdivisions=16/' cfg/yolov4-tiny-obj.cfg\r\n",
        "!sed -i 's/max_batches = 500200/max_batches = 8000/' cfg/yolov4-tiny-obj.cfg\r\n",
        "!sed -i 's/steps=400000,450000/steps=6400,7200/' cfg/yolov4-tiny-obj.cfg\r\n",
        "!sed -i 's/width=416/width=640/' cfg/yolov4-tiny-obj.cfg\r\n",
        "!sed -i 's/height=416/height=640/' cfg/yolov4-tiny-obj.cfg\r\n",
        "!sed -i \"s/random=0/random=1/\"\r\n",
        "!sed -i \"220 s@classes=80@classes=$NUM_CLASSES@\" cfg/yolov4-tiny-obj.cfg\r\n",
        "!sed -i \"269 s@classes=80@classes=$NUM_CLASSES@\" cfg/yolov4-tiny-obj.cfg\r\n",
        "!sed -i \"212 s@filters=255@filters=$NUM_FILTERS@\" cfg/yolov4-tiny-obj.cfg\r\n",
        "!sed -i \"263 s@filters=255@filters=$NUM_FILTERS@\" cfg/yolov4-tiny-obj.cfg\r\n",
        "\r\n",
        "!tail -n 20 cfg/yolov4-tiny-obj.cfg"
      ],
      "outputs": [
        {
          "output_type": "stream",
          "name": "stdout",
          "text": [
            "pad=1\n",
            "filters=18\n",
            "activation=linear\n",
            "\n",
            "[yolo]\n",
            "mask = 0,1,2\n",
            "anchors = 10,14,  23,27,  37,58,  81,82,  135,169,  344,319\n",
            "classes=1\n",
            "num=6\n",
            "jitter=.3\n",
            "scale_x_y = 1.05\n",
            "cls_normalizer=1.0\n",
            "iou_normalizer=0.07\n",
            "iou_loss=ciou\n",
            "ignore_thresh = .7\n",
            "truth_thresh = 1\n",
            "random=0\n",
            "resize=1.5\n",
            "nms_kind=greedynms\n",
            "beta_nms=0.6\n"
          ]
        }
      ],
      "metadata": {
        "colab": {
          "base_uri": "https://localhost:8080/"
        },
        "id": "5ZgVQRop_vwR",
        "outputId": "83e9c920-e212-47ec-d071-390b58865cd7"
      }
    },
    {
      "cell_type": "code",
      "execution_count": 10,
      "source": [
        "!echo \"$CLASS_NAMES\" > data/obj.names\r\n",
        "!echo -e \"classes = $NUM_CLASSES\\r\\ntrain  = data/train.txt\\r\\nvalid  = data/test.txt\\r\\nnames = data/obj.names\\r\\nbackup = $BACKUP_DIR\" > data/obj.data\r\n",
        "!mkdir data/obj\r\n",
        "!cat data/obj.data"
      ],
      "outputs": [
        {
          "output_type": "stream",
          "name": "stdout",
          "text": [
            "classes = 1\r\n",
            "train  = data/train.txt\r\n",
            "valid  = data/test.txt\r\n",
            "names = data/obj.names\r\n",
            "backup = /mydrive/yolov4_tiny\n"
          ]
        }
      ],
      "metadata": {
        "colab": {
          "base_uri": "https://localhost:8080/"
        },
        "id": "7AIBw_psIclz",
        "outputId": "8a8d0a96-c910-4ca6-b663-192be3f09f57"
      }
    },
    {
      "cell_type": "code",
      "execution_count": null,
      "source": [
        "# Download weights yolov4 tiny\r\n",
        "\r\n",
        "!wget https://github.com/AlexeyAB/darknet/releases/download/darknet_yolo_v4_pre/yolov4-tiny.conv.29 "
      ],
      "outputs": [],
      "metadata": {
        "id": "eZlkzFMW7I_N"
      }
    },
    {
      "cell_type": "markdown",
      "source": [
        "**4) Extract Images**\n",
        "\n",
        "The images need to be inside a zip archive called \"images.zip\" and they need to be inside the folder \"yolov3\" on Google Drive"
      ],
      "metadata": {
        "id": "9RbVKJjoncW2"
      }
    },
    {
      "cell_type": "code",
      "execution_count": null,
      "source": [
        "!rm -r data/obj\r\n",
        "!ls data"
      ],
      "outputs": [],
      "metadata": {
        "id": "_fHrzCQq4nsn"
      }
    },
    {
      "cell_type": "code",
      "execution_count": null,
      "source": [
        "!unzip -o $BACKUP_DIR/images.zip -d data/obj"
      ],
      "outputs": [],
      "metadata": {
        "id": "jhb5nZvsQ_96",
        "scrolled": true
      }
    },
    {
      "cell_type": "code",
      "execution_count": null,
      "source": [
        "# We're going to convert the class index on the .txt files. \r\n",
        "# For example, if the indices labelled are 14 and 15, they will be converted to 0 and 1\r\n",
        "# Can be doubled checked in `print(index_list)`\r\n",
        "\r\n",
        "index_list = []\r\n",
        "\r\n",
        "txt_file_paths = glob.glob(r\"data/obj/*.txt\")\r\n",
        "for i, file_path in enumerate(txt_file_paths):\r\n",
        "    with open(file_path, \"r\") as f_o:\r\n",
        "        lines = f_o.readlines()\r\n",
        "        text_converted = []\r\n",
        "        print(i, file_path)\r\n",
        "        for line in lines:\r\n",
        "            numbers = re.findall(\"[0-9.]+\", line)\r\n",
        "            if numbers:\r\n",
        "                index = int(numbers[0])\r\n",
        "                if index not in index_list:\r\n",
        "                  index_list.append(index)\r\n",
        "                converted_index = index_list.index(index)\r\n",
        "                \r\n",
        "                text = \"{} {} {} {} {}\".format(converted_index, numbers[1], numbers[2], numbers[3], numbers[4])\r\n",
        "                text_converted.append(text)\r\n",
        "\r\n",
        "        # Write file\r\n",
        "        with open(file_path, 'w') as fp:\r\n",
        "            for item in text_converted:\r\n",
        "                fp.writelines(\"%s\\n\" % item)\r\n",
        "\r\n",
        "print(index_list)"
      ],
      "outputs": [],
      "metadata": {
        "id": "DGUyXxeYX0IP",
        "scrolled": false
      }
    },
    {
      "cell_type": "code",
      "execution_count": null,
      "source": [
        "import glob\n",
        "images_list = glob.glob(\"data/obj/*.jpg\")\n",
        "random.shuffle(images_list)\n",
        "\n",
        "train_images_list = images_list[:4*len(images_list)//5]\n",
        "test_images_list = images_list[4*len(images_list)//5:]\n",
        "print(train_images_list)"
      ],
      "outputs": [],
      "metadata": {
        "id": "5I_0ht7ITMUu",
        "scrolled": false
      }
    },
    {
      "cell_type": "code",
      "execution_count": 70,
      "source": [
        "#Create training.txt and test.txt file\n",
        "\n",
        "with open(\"data/train.txt\", \"w\") as f:\n",
        "  f.write(\"\\n\".join(train_images_list))\n",
        "\n",
        "with open(\"data/test.txt\", \"w\") as f:\n",
        "  f.write(\"\\n\".join(test_images_list)) "
      ],
      "outputs": [],
      "metadata": {
        "id": "EzygoAtMSnon"
      }
    },
    {
      "cell_type": "markdown",
      "source": [
        "**5) Start the training**"
      ],
      "metadata": {
        "id": "CeSiuLrXoAjc"
      }
    },
    {
      "cell_type": "code",
      "execution_count": 71,
      "source": [
        "# Start the training\n",
        "!./darknet detector train data/obj.data cfg/yolov4-tiny-obj.cfg yolov4-tiny.conv.29 -dont_show"
      ],
      "outputs": [],
      "metadata": {
        "id": "S3_g3jclUzMm",
        "scrolled": true
      }
    },
    {
      "cell_type": "code",
      "execution_count": 77,
      "source": [
        "# Validate the weights files to see which performs the best\n",
        "\n",
        "!./darknet detector map data/obj.data cfg/yolov4-tiny-obj.cfg /mydrive/yolov4_tiny/yolov4-tiny-obj_8000.weights"
      ],
      "outputs": [
        {
          "output_type": "stream",
          "name": "stdout",
          "text": [
            " CUDA-version: 11000 (11020), cuDNN: 7.6.5, GPU count: 1  \n",
            " OpenCV version: 3.2.0\n",
            " 0 : compute_capability = 370, cudnn_half = 0, GPU: Tesla K80 \n",
            "net.optimized_memory = 0 \n",
            "mini_batch = 1, batch = 16, time_steps = 1, train = 0 \n",
            "   layer   filters  size/strd(dil)      input                output\n",
            "   0 Create CUDA-stream - 0 \n",
            " Create cudnn-handle 0 \n",
            "conv     32       3 x 3/ 2    640 x 640 x   3 ->  320 x 320 x  32 0.177 BF\n",
            "   1 conv     64       3 x 3/ 2    320 x 320 x  32 ->  160 x 160 x  64 0.944 BF\n",
            "   2 conv     64       3 x 3/ 1    160 x 160 x  64 ->  160 x 160 x  64 1.887 BF\n",
            "   3 route  2 \t\t                       1/2 ->  160 x 160 x  32 \n",
            "   4 conv     32       3 x 3/ 1    160 x 160 x  32 ->  160 x 160 x  32 0.472 BF\n",
            "   5 conv     32       3 x 3/ 1    160 x 160 x  32 ->  160 x 160 x  32 0.472 BF\n",
            "   6 route  5 4 \t                           ->  160 x 160 x  64 \n",
            "   7 conv     64       1 x 1/ 1    160 x 160 x  64 ->  160 x 160 x  64 0.210 BF\n",
            "   8 route  2 7 \t                           ->  160 x 160 x 128 \n",
            "   9 max                2x 2/ 2    160 x 160 x 128 ->   80 x  80 x 128 0.003 BF\n",
            "  10 conv    128       3 x 3/ 1     80 x  80 x 128 ->   80 x  80 x 128 1.887 BF\n",
            "  11 route  10 \t\t                       1/2 ->   80 x  80 x  64 \n",
            "  12 conv     64       3 x 3/ 1     80 x  80 x  64 ->   80 x  80 x  64 0.472 BF\n",
            "  13 conv     64       3 x 3/ 1     80 x  80 x  64 ->   80 x  80 x  64 0.472 BF\n",
            "  14 route  13 12 \t                           ->   80 x  80 x 128 \n",
            "  15 conv    128       1 x 1/ 1     80 x  80 x 128 ->   80 x  80 x 128 0.210 BF\n",
            "  16 route  10 15 \t                           ->   80 x  80 x 256 \n",
            "  17 max                2x 2/ 2     80 x  80 x 256 ->   40 x  40 x 256 0.002 BF\n",
            "  18 conv    256       3 x 3/ 1     40 x  40 x 256 ->   40 x  40 x 256 1.887 BF\n",
            "  19 route  18 \t\t                       1/2 ->   40 x  40 x 128 \n",
            "  20 conv    128       3 x 3/ 1     40 x  40 x 128 ->   40 x  40 x 128 0.472 BF\n",
            "  21 conv    128       3 x 3/ 1     40 x  40 x 128 ->   40 x  40 x 128 0.472 BF\n",
            "  22 route  21 20 \t                           ->   40 x  40 x 256 \n",
            "  23 conv    256       1 x 1/ 1     40 x  40 x 256 ->   40 x  40 x 256 0.210 BF\n",
            "  24 route  18 23 \t                           ->   40 x  40 x 512 \n",
            "  25 max                2x 2/ 2     40 x  40 x 512 ->   20 x  20 x 512 0.001 BF\n",
            "  26 conv    512       3 x 3/ 1     20 x  20 x 512 ->   20 x  20 x 512 1.887 BF\n",
            "  27 conv    256       1 x 1/ 1     20 x  20 x 512 ->   20 x  20 x 256 0.105 BF\n",
            "  28 conv    512       3 x 3/ 1     20 x  20 x 256 ->   20 x  20 x 512 0.944 BF\n",
            "  29 conv     18       1 x 1/ 1     20 x  20 x 512 ->   20 x  20 x  18 0.007 BF\n",
            "  30 yolo\n",
            "[yolo] params: iou loss: ciou (4), iou_norm: 0.07, obj_norm: 1.00, cls_norm: 1.00, delta_norm: 1.00, scale_x_y: 1.05\n",
            "nms_kind: greedynms (1), beta = 0.600000 \n",
            "  31 route  27 \t\t                           ->   20 x  20 x 256 \n",
            "  32 conv    128       1 x 1/ 1     20 x  20 x 256 ->   20 x  20 x 128 0.026 BF\n",
            "  33 upsample                 2x    20 x  20 x 128 ->   40 x  40 x 128\n",
            "  34 route  33 23 \t                           ->   40 x  40 x 384 \n",
            "  35 conv    256       3 x 3/ 1     40 x  40 x 384 ->   40 x  40 x 256 2.831 BF\n",
            "  36 conv     18       1 x 1/ 1     40 x  40 x 256 ->   40 x  40 x  18 0.015 BF\n",
            "  37 yolo\n",
            "[yolo] params: iou loss: ciou (4), iou_norm: 0.07, obj_norm: 1.00, cls_norm: 1.00, delta_norm: 1.00, scale_x_y: 1.05\n",
            "nms_kind: greedynms (1), beta = 0.600000 \n",
            "Total BFLOPS 16.065 \n",
            "avg_outputs = 709263 \n",
            " Allocate additional workspace_size = 11.06 MB \n",
            "Loading weights from /mydrive/yolov4_tiny/yolov4-tiny-obj_8000.weights...\n",
            " seen 64, trained: 512 K-images (8 Kilo-batches_64) \n",
            "Done! Loaded 38 layers from weights-file \n",
            "\n",
            " calculation mAP (mean average precision)...\n",
            " Detection layer: 30 - type = 28 \n",
            " Detection layer: 37 - type = 28 \n",
            "32\n",
            " detections_count = 2613, unique_truth_count = 1733  \n",
            "class_id = 0, name = hold, ap = 82.34%   \t (TP = 1431, FP = 264) \n",
            "\n",
            " for conf_thresh = 0.25, precision = 0.84, recall = 0.83, F1-score = 0.83 \n",
            " for conf_thresh = 0.25, TP = 1431, FP = 264, FN = 302, average IoU = 67.91 % \n",
            "\n",
            " IoU threshold = 50 %, used Area-Under-Curve for each unique Recall \n",
            " mean average precision (mAP@0.50) = 0.823387, or 82.34 % \n",
            "Total Detection Time: 1 Seconds\n",
            "\n",
            "Set -points flag:\n",
            " `-points 101` for MS COCO \n",
            " `-points 11` for PascalVOC 2007 (uncomment `difficult` in voc.data) \n",
            " `-points 0` (AUC) for ImageNet, PascalVOC 2010-2012, your custom dataset\n"
          ]
        }
      ],
      "metadata": {
        "colab": {
          "base_uri": "https://localhost:8080/"
        },
        "id": "X_Yf9cwm1BmM",
        "scrolled": true,
        "outputId": "d8dae19e-e34f-4de0-84d8-53f1ff6426ec"
      }
    },
    {
      "cell_type": "code",
      "execution_count": 75,
      "source": [
        "# Save the config\n",
        "!cp cfg/yolov4-tiny-obj.cfg /mydrive/yolov4_tiny/yolov4-tiny-obj.cfg"
      ],
      "outputs": [],
      "metadata": {
        "id": "pJOEUDbp4Fsc"
      }
    }
  ]
}