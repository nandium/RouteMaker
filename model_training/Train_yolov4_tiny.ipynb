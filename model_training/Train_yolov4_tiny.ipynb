{
 "cells": [
  {
   "cell_type": "markdown",
   "metadata": {},
   "source": [
    "#### Steps\n",
    "\n",
    "1. Label images in YOLO format using [labellmg](https://tzutalin.github.io/labelImg/)\n",
    "2. Zip the images and store in a Google Drive folder\n",
    "3. Run this notebook on Google Colab with GPU\n",
    "4. Rename `$BACKUP_DIR` accordingly. For example, if the folder is named yolov4_tiny, assign it `/mydrive/yolov4_tiny`\n",
    "5. Edit `CLASSES` accordingly"
   ]
  },
  {
   "cell_type": "code",
   "execution_count": null,
   "metadata": {
    "colab": {
     "base_uri": "https://localhost:8080/"
    },
    "id": "bwp6NIrsZZFP",
    "outputId": "090a5318-0f4d-44eb-bba7-865211125610",
    "scrolled": true
   },
   "outputs": [],
   "source": [
    "# Check if NVIDIA GPU is enabled\n",
    "!nvidia-smi"
   ]
  },
  {
   "cell_type": "code",
   "execution_count": null,
   "metadata": {
    "id": "SWewdvMGv8Fd"
   },
   "outputs": [],
   "source": [
    "import glob\n",
    "import os\n",
    "import re\n",
    "import random\n",
    "\n",
    "random.seed(42)"
   ]
  },
  {
   "cell_type": "code",
   "execution_count": null,
   "metadata": {
    "id": "q2A2gPchx7vL"
   },
   "outputs": [],
   "source": [
    "CLASSES = [\"hold\", \"volume\"]\n",
    "\n",
    "os.environ[\"NUM_CLASSES\"] = f\"{len(CLASSES)}\"\n",
    "os.environ[\"NUM_FILTERS\"] = f\"{(len(CLASSES) + 5)*3}\"\n",
    "os.environ[\"CLASS_NAMES\"] = \"\\r\\n\".join(CLASSES)\n",
    "os.environ[\"BACKUP_DIR\"] = \"/mydrive/yolov4_tiny\""
   ]
  },
  {
   "cell_type": "code",
   "execution_count": null,
   "metadata": {
    "colab": {
     "base_uri": "https://localhost:8080/"
    },
    "id": "oHQ6gLMeC7tK",
    "outputId": "aa7f08ab-ee1b-4f0e-ece1-ed8c4257eeef"
   },
   "outputs": [
    {
     "name": "stdout",
     "output_type": "stream",
     "text": [
      "2\n",
      "21\n",
      " volume\n",
      "/mydrive/yolov4_tiny\n"
     ]
    }
   ],
   "source": [
    "!echo $NUM_CLASSES\n",
    "!echo $NUM_FILTERS\n",
    "!echo $CLASS_NAMES\n",
    "!echo $BACKUP_DIR"
   ]
  },
  {
   "cell_type": "code",
   "execution_count": null,
   "metadata": {
    "colab": {
     "base_uri": "https://localhost:8080/"
    },
    "id": "9e9ZW3sqMEPO",
    "outputId": "6682c63c-e99d-4892-bccf-ad7716c7e5a8"
   },
   "outputs": [
    {
     "name": "stdout",
     "output_type": "stream",
     "text": [
      "Mounted at /content/gdrive\n"
     ]
    }
   ],
   "source": [
    "from google.colab import drive\n",
    "drive.mount('/content/gdrive')\n",
    "!ln -s /content/gdrive/MyDrive/ /mydrive"
   ]
  },
  {
   "cell_type": "markdown",
   "metadata": {
    "id": "t7utW4in4azV"
   },
   "source": [
    "**1) Clone the Darknet**\n",
    "\n"
   ]
  },
  {
   "cell_type": "code",
   "execution_count": null,
   "metadata": {
    "colab": {
     "base_uri": "https://localhost:8080/"
    },
    "id": "e03U7Zi-qMr2",
    "outputId": "bbcfc894-8bd7-4fef-f88d-222cde7f4c10"
   },
   "outputs": [
    {
     "name": "stdout",
     "output_type": "stream",
     "text": [
      "Cloning into 'darknet'...\n",
      "remote: Enumerating objects: 14751, done.\u001b[K\n",
      "remote: Total 14751 (delta 0), reused 0 (delta 0), pack-reused 14751\u001b[K\n",
      "Receiving objects: 100% (14751/14751), 13.31 MiB | 22.41 MiB/s, done.\n",
      "Resolving deltas: 100% (10031/10031), done.\n"
     ]
    }
   ],
   "source": [
    "!git clone https://github.com/AlexeyAB/darknet"
   ]
  },
  {
   "cell_type": "markdown",
   "metadata": {
    "id": "7gDOF3mU-TAn"
   },
   "source": [
    "**2) Compile Darknet using Nvidia GPU**\n"
   ]
  },
  {
   "cell_type": "code",
   "execution_count": null,
   "metadata": {
    "colab": {
     "base_uri": "https://localhost:8080/"
    },
    "id": "5H-Taj06Tw1c",
    "outputId": "0adcce85-e7ec-441c-98ef-6a5835b2cd4c",
    "scrolled": true
   },
   "outputs": [],
   "source": [
    "# change makefile to have GPU and OPENCV enabled\n",
    "%cd darknet\n",
    "!sed -i 's/OPENCV=0/OPENCV=1/' Makefile\n",
    "!sed -i 's/GPU=0/GPU=1/' Makefile\n",
    "!sed -i 's/CUDNN=0/CUDNN=1/' Makefile\n",
    "!make"
   ]
  },
  {
   "cell_type": "markdown",
   "metadata": {
    "id": "gAOLtA_qI9vF"
   },
   "source": [
    "**3) Configure Darknet network for training YOLO V4 Tiny**"
   ]
  },
  {
   "cell_type": "code",
   "execution_count": null,
   "metadata": {
    "id": "s-RpscgU853t"
   },
   "outputs": [],
   "source": [
    "!cp cfg/yolov4-tiny-custom.cfg cfg/yolov4-tiny-obj.cfg"
   ]
  },
  {
   "cell_type": "code",
   "execution_count": null,
   "metadata": {
    "colab": {
     "base_uri": "https://localhost:8080/"
    },
    "id": "5ZgVQRop_vwR",
    "outputId": "d8bfcbcb-7b19-46da-c169-614c66bdc5de"
   },
   "outputs": [
    {
     "name": "stdout",
     "output_type": "stream",
     "text": [
      "pad=1\n",
      "filters=21\n",
      "activation=linear\n",
      "\n",
      "[yolo]\n",
      "mask = 0,1,2\n",
      "anchors = 10,14,  23,27,  37,58,  81,82,  135,169,  344,319\n",
      "classes=2\n",
      "num=6\n",
      "jitter=.3\n",
      "scale_x_y = 1.05\n",
      "cls_normalizer=1.0\n",
      "iou_normalizer=0.07\n",
      "iou_loss=ciou\n",
      "ignore_thresh = .7\n",
      "truth_thresh = 1\n",
      "random=0\n",
      "resize=1.5\n",
      "nms_kind=greedynms\n",
      "beta_nms=0.6\n"
     ]
    }
   ],
   "source": [
    "# filters=(classes + 5)x3 \n",
    "\n",
    "!sed -i 's/batch=1/batch=64/' cfg/yolov4-tiny-obj.cfg\n",
    "!sed -i 's/subdivisions=1/subdivisions=16/' cfg/yolov4-tiny-obj.cfg\n",
    "!sed -i 's/max_batches = 500200/max_batches = 4000/' cfg/yolov4-tiny-obj.cfg\n",
    "!sed -i \"220 s@classes=80@classes=$NUM_CLASSES@\" cfg/yolov4-tiny-obj.cfg\n",
    "!sed -i \"269 s@classes=80@classes=$NUM_CLASSES@\" cfg/yolov4-tiny-obj.cfg\n",
    "!sed -i \"212 s@filters=255@filters=$NUM_FILTERS@\" cfg/yolov4-tiny-obj.cfg\n",
    "!sed -i \"263 s@filters=255@filters=$NUM_FILTERS@\" cfg/yolov4-tiny-obj.cfg\n",
    "\n",
    "!tail -n 20 cfg/yolov4-tiny-obj.cfg"
   ]
  },
  {
   "cell_type": "code",
   "execution_count": null,
   "metadata": {
    "colab": {
     "base_uri": "https://localhost:8080/"
    },
    "id": "7AIBw_psIclz",
    "outputId": "22828461-0532-413d-e36c-9465436fccde"
   },
   "outputs": [
    {
     "name": "stdout",
     "output_type": "stream",
     "text": [
      "classes = 2\r\n",
      "train  = data/train.txt\r\n",
      "valid  = data/test.txt\r\n",
      "names = data/obj.names\r\n",
      "backup = /mydrive/yolov4_tiny\n"
     ]
    }
   ],
   "source": [
    "!echo \"$CLASS_NAMES\" > data/obj.names\n",
    "!echo -e \"classes = $NUM_CLASSES\\r\\ntrain  = data/train.txt\\r\\nvalid  = data/test.txt\\r\\nnames = data/obj.names\\r\\nbackup = $BACKUP_DIR\" > data/obj.data\n",
    "!mkdir data/obj\n",
    "!cat data/obj.data"
   ]
  },
  {
   "cell_type": "code",
   "execution_count": null,
   "metadata": {
    "colab": {
     "base_uri": "https://localhost:8080/"
    },
    "id": "eZlkzFMW7I_N",
    "outputId": "4607eae1-0f7c-4956-92ea-610b73d6bfc4"
   },
   "outputs": [],
   "source": [
    "# Download weights yolov4 tiny\n",
    "\n",
    "!wget https://github.com/AlexeyAB/darknet/releases/download/darknet_yolo_v4_pre/yolov4-tiny.conv.29 "
   ]
  },
  {
   "cell_type": "markdown",
   "metadata": {
    "id": "9RbVKJjoncW2"
   },
   "source": [
    "**4) Extract Images**\n",
    "\n",
    "The images need to be inside a zip archive called \"images.zip\" and they need to be inside the folder \"yolov3\" on Google Drive"
   ]
  },
  {
   "cell_type": "code",
   "execution_count": null,
   "metadata": {
    "colab": {
     "base_uri": "https://localhost:8080/"
    },
    "id": "jhb5nZvsQ_96",
    "outputId": "d692e547-a54b-4f26-fff4-80ed863a2721",
    "scrolled": true
   },
   "outputs": [],
   "source": [
    "!unzip -o $BACKUP_DIR/images.zip -d data/obj"
   ]
  },
  {
   "cell_type": "code",
   "execution_count": null,
   "metadata": {
    "colab": {
     "base_uri": "https://localhost:8080/"
    },
    "id": "DGUyXxeYX0IP",
    "outputId": "03320da9-f449-41ce-f458-9fd7fd63c51e",
    "scrolled": false
   },
   "outputs": [],
   "source": [
    "# We're going to convert the class index on the .txt files. \n",
    "# For example, if the indices labelled are 14 and 15, they will be converted to 0 and 1\n",
    "# Can be doubled checked in `print(index_list)`\n",
    "\n",
    "index_list = []\n",
    "\n",
    "txt_file_paths = glob.glob(r\"data/obj/*.txt\")\n",
    "for i, file_path in enumerate(txt_file_paths):\n",
    "    with open(file_path, \"r\") as f_o:\n",
    "        lines = f_o.readlines()\n",
    "        text_converted = []\n",
    "        print(i, file_path)\n",
    "        for line in lines:\n",
    "            numbers = re.findall(\"[0-9.]+\", line)\n",
    "            if numbers:\n",
    "                index = int(numbers[0])\n",
    "                if index not in index_list:\n",
    "                  index_list.append(index)\n",
    "                converted_index = index_list.index(index)\n",
    "                \n",
    "                text = \"{} {} {} {} {}\".format(converted_index, numbers[1], numbers[2], numbers[3], numbers[4])\n",
    "                text_converted.append(text)\n",
    "\n",
    "        # Write file\n",
    "        with open(file_path, 'w') as fp:\n",
    "            for item in text_converted:\n",
    "                fp.writelines(\"%s\\n\" % item)\n",
    "\n",
    "print(index_list)"
   ]
  },
  {
   "cell_type": "code",
   "execution_count": null,
   "metadata": {
    "colab": {
     "base_uri": "https://localhost:8080/"
    },
    "id": "5I_0ht7ITMUu",
    "outputId": "fc94c3ed-3905-4bd0-fe63-b3efc05b748f",
    "scrolled": false
   },
   "outputs": [],
   "source": [
    "import glob\n",
    "images_list = glob.glob(\"data/obj/*.jpg\")\n",
    "random.shuffle(images_list)\n",
    "\n",
    "train_images_list = images_list[:4*len(images_list)//5]\n",
    "test_images_list = images_list[4*len(images_list)//5:]\n",
    "print(train_images_list)"
   ]
  },
  {
   "cell_type": "code",
   "execution_count": null,
   "metadata": {
    "id": "EzygoAtMSnon"
   },
   "outputs": [],
   "source": [
    "#Create training.txt and test.txt file\n",
    "\n",
    "with open(\"data/train.txt\", \"w\") as f:\n",
    "  f.write(\"\\n\".join(train_images_list))\n",
    "\n",
    "with open(\"data/test.txt\", \"w\") as f:\n",
    "  f.write(\"\\n\".join(test_images_list)) "
   ]
  },
  {
   "cell_type": "markdown",
   "metadata": {
    "id": "CeSiuLrXoAjc"
   },
   "source": [
    "**5) Start the training**"
   ]
  },
  {
   "cell_type": "code",
   "execution_count": null,
   "metadata": {
    "colab": {
     "base_uri": "https://localhost:8080/"
    },
    "id": "S3_g3jclUzMm",
    "outputId": "aa1193d4-0f78-4edc-9779-8e8723d8f176",
    "scrolled": true
   },
   "outputs": [],
   "source": [
    "# Start the training\n",
    "!./darknet detector train data/obj.data cfg/yolov4-tiny-obj.cfg yolov4-tiny.conv.29 -dont_show"
   ]
  },
  {
   "cell_type": "code",
   "execution_count": null,
   "metadata": {
    "colab": {
     "base_uri": "https://localhost:8080/"
    },
    "id": "X_Yf9cwm1BmM",
    "outputId": "22f9a0d6-5d28-4e01-b396-5e5b6e868ba8",
    "scrolled": true
   },
   "outputs": [],
   "source": [
    "# Validate the weights files to see which performs the best\n",
    "!./darknet detector map data/obj.data cfg/yolov4-tiny-obj.cfg /mydrive/yolov4_tiny/yolov4-tiny-obj_2000.weights"
   ]
  },
  {
   "cell_type": "code",
   "execution_count": null,
   "metadata": {
    "id": "pJOEUDbp4Fsc"
   },
   "outputs": [],
   "source": [
    "# Save the best weights\n",
    "!cp cfg/yolov4-tiny-obj.cfg /mydrive/yolov4_tiny/yolov4-tiny-obj.cfg"
   ]
  }
 ],
 "metadata": {
  "accelerator": "GPU",
  "colab": {
   "collapsed_sections": [],
   "name": "Training yolov4 tiny.ipynb",
   "provenance": []
  },
  "kernelspec": {
   "display_name": "Python 3",
   "language": "python",
   "name": "python3"
  },
  "language_info": {
   "codemirror_mode": {
    "name": "ipython",
    "version": 3
   },
   "file_extension": ".py",
   "mimetype": "text/x-python",
   "name": "python",
   "nbconvert_exporter": "python",
   "pygments_lexer": "ipython3",
   "version": "3.7.6"
  }
 },
 "nbformat": 4,
 "nbformat_minor": 1
}
